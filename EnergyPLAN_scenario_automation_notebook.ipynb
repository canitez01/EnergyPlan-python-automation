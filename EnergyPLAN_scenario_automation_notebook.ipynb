{
 "cells": [
  {
   "cell_type": "markdown",
   "id": "50cc5fc0",
   "metadata": {},
   "source": [
    "## 1. Creating EnergyPLAN data files according to scenarios "
   ]
  },
  {
   "cell_type": "markdown",
   "id": "d4296f7c",
   "metadata": {},
   "source": [
    "### 1.1. Intro and reference file"
   ]
  },
  {
   "cell_type": "markdown",
   "id": "7f58af07",
   "metadata": {},
   "source": [
    "This notebook provides the python code to automize running a series of scenarios on the EnergyPLAN model[^1], developed and maintained by Sustainable Energy Planning Research Group at Aalborg University, within Microsoft Windows OS. Turkey is the example case.\n",
    "\n",
    "We use a framework file for scenarios, which is Turkey's 2020 reference data. \n",
    "\n",
    "Most of the data gathered from Energy Balance Sheet of EUROSTAT, with distribution files from EnergyPLAN's 2012-2020 Turkey reference file with the exception of electricity demand distribution which is updated according to Turkey's 2021 hourly distribution. Both the data and the distriburtion files are provided in the github page with relevant folder names.\n",
    "\n",
    "[^1]: https://www.energyplan.eu/"
   ]
  },
  {
   "cell_type": "code",
   "execution_count": 1,
   "id": "f3e27f0f",
   "metadata": {},
   "outputs": [],
   "source": [
    "import pandas"
   ]
  },
  {
   "cell_type": "code",
   "execution_count": 2,
   "id": "c3894535",
   "metadata": {},
   "outputs": [
    {
     "data": {
      "text/html": [
       "<div>\n",
       "<style scoped>\n",
       "    .dataframe tbody tr th:only-of-type {\n",
       "        vertical-align: middle;\n",
       "    }\n",
       "\n",
       "    .dataframe tbody tr th {\n",
       "        vertical-align: top;\n",
       "    }\n",
       "\n",
       "    .dataframe thead th {\n",
       "        text-align: right;\n",
       "    }\n",
       "</style>\n",
       "<table border=\"1\" class=\"dataframe\">\n",
       "  <thead>\n",
       "    <tr style=\"text-align: right;\">\n",
       "      <th></th>\n",
       "      <th>0</th>\n",
       "    </tr>\n",
       "  </thead>\n",
       "  <tbody>\n",
       "    <tr>\n",
       "      <th>0</th>\n",
       "      <td>EnergyPLAN version</td>\n",
       "    </tr>\n",
       "    <tr>\n",
       "      <th>1</th>\n",
       "      <td>16.0</td>\n",
       "    </tr>\n",
       "    <tr>\n",
       "      <th>2</th>\n",
       "      <td>EnergyUnit=</td>\n",
       "    </tr>\n",
       "    <tr>\n",
       "      <th>3</th>\n",
       "      <td>TWh/year</td>\n",
       "    </tr>\n",
       "    <tr>\n",
       "      <th>4</th>\n",
       "      <td>CapacityUnit=</td>\n",
       "    </tr>\n",
       "    <tr>\n",
       "      <th>5</th>\n",
       "      <td>MW</td>\n",
       "    </tr>\n",
       "    <tr>\n",
       "      <th>6</th>\n",
       "      <td>MonetaryUnit=</td>\n",
       "    </tr>\n",
       "    <tr>\n",
       "      <th>7</th>\n",
       "      <td>EUR</td>\n",
       "    </tr>\n",
       "    <tr>\n",
       "      <th>8</th>\n",
       "      <td>Input_el_demand_Twh=</td>\n",
       "    </tr>\n",
       "    <tr>\n",
       "      <th>9</th>\n",
       "      <td>306</td>\n",
       "    </tr>\n",
       "  </tbody>\n",
       "</table>\n",
       "</div>"
      ],
      "text/plain": [
       "                      0\n",
       "0    EnergyPLAN version\n",
       "1                  16.0\n",
       "2           EnergyUnit=\n",
       "3              TWh/year\n",
       "4         CapacityUnit=\n",
       "5                    MW\n",
       "6         MonetaryUnit=\n",
       "7                   EUR\n",
       "8  Input_el_demand_Twh=\n",
       "9                   306"
      ]
     },
     "execution_count": 2,
     "metadata": {},
     "output_type": "execute_result"
    }
   ],
   "source": [
    "df_reference = pandas.read_csv(\"Data/turkey_2020_ref.txt\", encoding=\"utf16\", header=None)\n",
    "df_reference.head(10)"
   ]
  },
  {
   "cell_type": "markdown",
   "id": "3e06d6de",
   "metadata": {},
   "source": [
    "### 1.2. Scenario bundle"
   ]
  },
  {
   "cell_type": "markdown",
   "id": "6e512ee3",
   "metadata": {},
   "source": [
    "This scenario bundle focuses on 52 variables that fall into four main categories/groups:\n",
    " * d_1 : total demand, household energy demand variables\n",
    " * d_2 : industry and other fuel consumption variables\n",
    " * d_3 : transportation fuel demand variables\n",
    " * s_p : energy supply capacity and fuel usage variables\n",
    " \n",
    "It is assumed that these four groups can be altered with independent policies i.e. one group might be altered to a great extent\n",
    "while the rest stay as they are. Therefore we define another three scenario groups which can affect these variables:\n",
    " * s_a, s_b, s_c which all foresees a change in the values of variables according to a method (which in detail is not relevant for this notebook).\n",
    "\n",
    "Within df_codes dataframe name column is the EnergyPLAN txt input names of variables."
   ]
  },
  {
   "cell_type": "code",
   "execution_count": 3,
   "id": "2b08a6f2",
   "metadata": {},
   "outputs": [],
   "source": [
    "df_codes=pandas.read_csv(\"energyplan_main_sheet_codes.csv\", encoding=\"latin5\", index_col=0)"
   ]
  },
  {
   "cell_type": "code",
   "execution_count": 4,
   "id": "36099e95",
   "metadata": {
    "scrolled": true
   },
   "outputs": [
    {
     "data": {
      "text/html": [
       "<div>\n",
       "<style scoped>\n",
       "    .dataframe tbody tr th:only-of-type {\n",
       "        vertical-align: middle;\n",
       "    }\n",
       "\n",
       "    .dataframe tbody tr th {\n",
       "        vertical-align: top;\n",
       "    }\n",
       "\n",
       "    .dataframe thead th {\n",
       "        text-align: right;\n",
       "    }\n",
       "</style>\n",
       "<table border=\"1\" class=\"dataframe\">\n",
       "  <thead>\n",
       "    <tr style=\"text-align: right;\">\n",
       "      <th></th>\n",
       "      <th>code</th>\n",
       "      <th>name</th>\n",
       "      <th>desc1</th>\n",
       "      <th>s_a</th>\n",
       "      <th>s_b</th>\n",
       "      <th>s_c</th>\n",
       "    </tr>\n",
       "    <tr>\n",
       "      <th>category</th>\n",
       "      <th></th>\n",
       "      <th></th>\n",
       "      <th></th>\n",
       "      <th></th>\n",
       "      <th></th>\n",
       "      <th></th>\n",
       "    </tr>\n",
       "  </thead>\n",
       "  <tbody>\n",
       "    <tr>\n",
       "      <th>d_1</th>\n",
       "      <td>0</td>\n",
       "      <td>Input_el_demand_Twh=</td>\n",
       "      <td>electricity demand</td>\n",
       "      <td>428.8124575</td>\n",
       "      <td>413.3156875</td>\n",
       "      <td>416.45973</td>\n",
       "    </tr>\n",
       "    <tr>\n",
       "      <th>d_1</th>\n",
       "      <td>1</td>\n",
       "      <td>input_fuel_Households[1]=</td>\n",
       "      <td>coal boiler</td>\n",
       "      <td>13.98598596</td>\n",
       "      <td>8.7393</td>\n",
       "      <td>8.18792</td>\n",
       "    </tr>\n",
       "    <tr>\n",
       "      <th>d_1</th>\n",
       "      <td>1</td>\n",
       "      <td>input_fuel_Households[2]=</td>\n",
       "      <td>oil boiler</td>\n",
       "      <td>6.033858623</td>\n",
       "      <td>1.0924125</td>\n",
       "      <td>1.02349</td>\n",
       "    </tr>\n",
       "    <tr>\n",
       "      <th>d_1</th>\n",
       "      <td>1</td>\n",
       "      <td>input_fuel_Households[3]=</td>\n",
       "      <td>ngas boiler</td>\n",
       "      <td>170.2035058</td>\n",
       "      <td>174.786</td>\n",
       "      <td>163.7584</td>\n",
       "    </tr>\n",
       "    <tr>\n",
       "      <th>d_1</th>\n",
       "      <td>1</td>\n",
       "      <td>input_fuel_Households[4]=</td>\n",
       "      <td>biomass boiler</td>\n",
       "      <td>20.99554077</td>\n",
       "      <td>10.924125</td>\n",
       "      <td>10.2349</td>\n",
       "    </tr>\n",
       "    <tr>\n",
       "      <th>d_1</th>\n",
       "      <td>1</td>\n",
       "      <td>input_HH_ngasboiler_Solar=</td>\n",
       "      <td>solar thermal households</td>\n",
       "      <td>7.2636088</td>\n",
       "      <td>19.663425</td>\n",
       "      <td>18.42282</td>\n",
       "    </tr>\n",
       "    <tr>\n",
       "      <th>d_1</th>\n",
       "      <td>1</td>\n",
       "      <td>input_HH_EB_heat=</td>\n",
       "      <td>electric heating</td>\n",
       "      <td>4.195328447</td>\n",
       "      <td>12.7620625</td>\n",
       "      <td>11.25839</td>\n",
       "    </tr>\n",
       "    <tr>\n",
       "      <th>d_1</th>\n",
       "      <td>1</td>\n",
       "      <td>Input_Cooling_el_demand=</td>\n",
       "      <td>household cooling demand</td>\n",
       "      <td>6.992214078</td>\n",
       "      <td>13.92225</td>\n",
       "      <td>12.28188</td>\n",
       "    </tr>\n",
       "    <tr>\n",
       "      <th>d_2</th>\n",
       "      <td>2</td>\n",
       "      <td>input_fuel_CSHP[1]=</td>\n",
       "      <td>industry_coal</td>\n",
       "      <td>106.9802305</td>\n",
       "      <td>82.099</td>\n",
       "      <td>68.9875</td>\n",
       "    </tr>\n",
       "    <tr>\n",
       "      <th>d_2</th>\n",
       "      <td>2</td>\n",
       "      <td>input_fuel_CSHP[2]=</td>\n",
       "      <td>industry_oil</td>\n",
       "      <td>68.23018957</td>\n",
       "      <td>65.6792</td>\n",
       "      <td>55.19</td>\n",
       "    </tr>\n",
       "  </tbody>\n",
       "</table>\n",
       "</div>"
      ],
      "text/plain": [
       "         code                         name                     desc1  \\\n",
       "category                                                               \n",
       "d_1         0         Input_el_demand_Twh=        electricity demand   \n",
       "d_1         1    input_fuel_Households[1]=               coal boiler   \n",
       "d_1         1    input_fuel_Households[2]=                oil boiler   \n",
       "d_1         1    input_fuel_Households[3]=               ngas boiler   \n",
       "d_1         1    input_fuel_Households[4]=            biomass boiler   \n",
       "d_1         1   input_HH_ngasboiler_Solar=  solar thermal households   \n",
       "d_1         1            input_HH_EB_heat=          electric heating   \n",
       "d_1         1     Input_Cooling_el_demand=  household cooling demand   \n",
       "d_2         2          input_fuel_CSHP[1]=             industry_coal   \n",
       "d_2         2          input_fuel_CSHP[2]=              industry_oil   \n",
       "\n",
       "                  s_a          s_b        s_c  \n",
       "category                                       \n",
       "d_1       428.8124575  413.3156875  416.45973  \n",
       "d_1       13.98598596       8.7393    8.18792  \n",
       "d_1       6.033858623    1.0924125    1.02349  \n",
       "d_1       170.2035058      174.786   163.7584  \n",
       "d_1       20.99554077    10.924125    10.2349  \n",
       "d_1         7.2636088    19.663425   18.42282  \n",
       "d_1       4.195328447   12.7620625   11.25839  \n",
       "d_1       6.992214078     13.92225   12.28188  \n",
       "d_2       106.9802305       82.099    68.9875  \n",
       "d_2       68.23018957      65.6792      55.19  "
      ]
     },
     "execution_count": 4,
     "metadata": {},
     "output_type": "execute_result"
    }
   ],
   "source": [
    "df_codes.head(10)"
   ]
  },
  {
   "cell_type": "markdown",
   "id": "17262291",
   "metadata": {},
   "source": [
    "As the categories/groups can alter independently, (say d_1 has the values of s_a, d_2 has the values of s_b and d_3 and s_p have the values of s_c scenarios) we define a combination of variable categories and scenarios with the following script: \n",
    "\n",
    "p.s. code credit for list combination: https://www.geeksforgeeks.org/python-program-to-get-all-unique-combinations-of-two-lists/#:~:text=The%20unique%20combination%20of%20two,elements%20of%20the%20second%20list.&text=Method%201%20%3A%20Using%20permutation(),and%20initialize%20list_1%20and%20list_2."
   ]
  },
  {
   "cell_type": "code",
   "execution_count": 5,
   "id": "cedda58f",
   "metadata": {},
   "outputs": [],
   "source": [
    "from itertools import product\n",
    " \n",
    "categories = [\"d_1\",\"d_2\",\"d_3\",\"s_p\"]\n",
    "scenarios = [\"s_a\",\"s_b\",\"s_c\"]\n",
    "\n",
    "cat_scen_combinations = []\n",
    "\n",
    "cat_scen_combinations = list(list(zip(categories, element))\n",
    "                             for element in product(scenarios, repeat = len(categories)))\n",
    "\n",
    "scenario_list=[sum(m,()) for m in cat_scen_combinations]"
   ]
  },
  {
   "cell_type": "code",
   "execution_count": 6,
   "id": "44425dbf",
   "metadata": {
    "scrolled": true
   },
   "outputs": [
    {
     "data": {
      "text/plain": [
       "[('d_1', 's_a', 'd_2', 's_a', 'd_3', 's_a', 's_p', 's_a'),\n",
       " ('d_1', 's_a', 'd_2', 's_a', 'd_3', 's_a', 's_p', 's_b'),\n",
       " ('d_1', 's_a', 'd_2', 's_a', 'd_3', 's_a', 's_p', 's_c'),\n",
       " ('d_1', 's_a', 'd_2', 's_a', 'd_3', 's_b', 's_p', 's_a'),\n",
       " ('d_1', 's_a', 'd_2', 's_a', 'd_3', 's_b', 's_p', 's_b'),\n",
       " ('d_1', 's_a', 'd_2', 's_a', 'd_3', 's_b', 's_p', 's_c'),\n",
       " ('d_1', 's_a', 'd_2', 's_a', 'd_3', 's_c', 's_p', 's_a'),\n",
       " ('d_1', 's_a', 'd_2', 's_a', 'd_3', 's_c', 's_p', 's_b'),\n",
       " ('d_1', 's_a', 'd_2', 's_a', 'd_3', 's_c', 's_p', 's_c'),\n",
       " ('d_1', 's_a', 'd_2', 's_b', 'd_3', 's_a', 's_p', 's_a')]"
      ]
     },
     "execution_count": 6,
     "metadata": {},
     "output_type": "execute_result"
    }
   ],
   "source": [
    "scenario_list[:10]"
   ]
  },
  {
   "cell_type": "markdown",
   "id": "07183f1c",
   "metadata": {},
   "source": [
    "For every scenario bundle, we have 4 pairs with 3 possibilities for each. In total we have 3^4=81 different combinations."
   ]
  },
  {
   "cell_type": "code",
   "execution_count": 7,
   "id": "78e6f1c4",
   "metadata": {},
   "outputs": [
    {
     "data": {
      "text/plain": [
       "81"
      ]
     },
     "execution_count": 7,
     "metadata": {},
     "output_type": "execute_result"
    }
   ],
   "source": [
    "len(scenario_list)"
   ]
  },
  {
   "cell_type": "markdown",
   "id": "5f0a6908",
   "metadata": {},
   "source": [
    "For every combination we create scenario input txt files, imposing values from df_codes to df_reference for the related variables. Then save these scenario txt files to the Data folder of EnergyPlan. \n",
    "\n",
    "Name of every scenario txt file is the combination of variables as in the scenario_list like; d_1-s_a-d_2-s_b-d_3-s_c-s_p-s_a.txt"
   ]
  },
  {
   "cell_type": "code",
   "execution_count": 8,
   "id": "a80e0f03",
   "metadata": {
    "scrolled": true
   },
   "outputs": [],
   "source": [
    "from copy import deepcopy\n",
    "\n",
    "df_synth = deepcopy(df_reference)\n",
    "noms = []\n",
    "\n",
    "for scenario in scenario_list:\n",
    "    #d_1 section\n",
    "    sect_d1 = df_codes.loc[scenario[0], [\"name\", scenario[1]]]\n",
    "    itemDict1 = {item[0]: item[1] for item in sect_d1.values.tolist()}\n",
    "    for key,values in itemDict1.items():\n",
    "        df_synth.loc[df_synth.loc[(df_synth[0] == key)].index[0]+1] = values\n",
    "    #d_2 section\n",
    "    sect_d2 = df_codes.loc[scenario[2], [\"name\", scenario[3]]]\n",
    "    itemDict2 = {item[0]: item[1] for item in sect_d2.values.tolist()}\n",
    "    for key,values in itemDict2.items():\n",
    "        df_synth.loc[df_synth.loc[(df_synth[0] == key)].index[0]+1] = values\n",
    "    #d_3 section\n",
    "    y = df_codes.loc[scenario[4], [\"name\", scenario[5]]]\n",
    "    itemDict3 = {item[0]: item[1] for item in y.values.tolist()}\n",
    "    for key,values in itemDict3.items():\n",
    "        df_synth.loc[df_synth.loc[(df_synth[0] == key)].index[0]+1] = values\n",
    "    #s_p section\n",
    "    u = df_codes.loc[scenario[6], [\"name\", scenario[7]]]\n",
    "    itemDict4 = {item[0]: item[1] for item in u.values.tolist()}\n",
    "    for key,values in itemDict4.items():\n",
    "        df_synth.loc[df_synth.loc[(df_synth[0] == key)].index[0]+1] = values\n",
    "    nom = \"-\".join(scenario) + \".txt\"\n",
    "    noms.append(nom)\n",
    "    df_synth.to_csv(\"C:/Users/asus/Desktop/EnergyPLAN162/energyPlan Data/Data\" + \"/\" + nom, index=False, header=False)"
   ]
  },
  {
   "cell_type": "markdown",
   "id": "191b6262",
   "metadata": {},
   "source": [
    " Name of files created in scenarios folder"
   ]
  },
  {
   "cell_type": "code",
   "execution_count": 9,
   "id": "ef3e4f8e",
   "metadata": {
    "scrolled": true
   },
   "outputs": [
    {
     "data": {
      "text/plain": [
       "['d_1-s_a-d_2-s_a-d_3-s_a-s_p-s_a.txt',\n",
       " 'd_1-s_a-d_2-s_a-d_3-s_a-s_p-s_b.txt',\n",
       " 'd_1-s_a-d_2-s_a-d_3-s_a-s_p-s_c.txt',\n",
       " 'd_1-s_a-d_2-s_a-d_3-s_b-s_p-s_a.txt',\n",
       " 'd_1-s_a-d_2-s_a-d_3-s_b-s_p-s_b.txt',\n",
       " 'd_1-s_a-d_2-s_a-d_3-s_b-s_p-s_c.txt',\n",
       " 'd_1-s_a-d_2-s_a-d_3-s_c-s_p-s_a.txt',\n",
       " 'd_1-s_a-d_2-s_a-d_3-s_c-s_p-s_b.txt',\n",
       " 'd_1-s_a-d_2-s_a-d_3-s_c-s_p-s_c.txt',\n",
       " 'd_1-s_a-d_2-s_b-d_3-s_a-s_p-s_a.txt']"
      ]
     },
     "execution_count": 9,
     "metadata": {},
     "output_type": "execute_result"
    }
   ],
   "source": [
    "noms[:10]"
   ]
  },
  {
   "cell_type": "markdown",
   "id": "c3818312",
   "metadata": {},
   "source": [
    "## 2. Automation Essentials"
   ]
  },
  {
   "cell_type": "markdown",
   "id": "c7514362",
   "metadata": {},
   "source": [
    "In order to\n",
    "\n",
    "1. open the prepared input data in EnergyPLAN, \n",
    "2. run the scenario and copy the results in clipboard \n",
    "3. paste the clipboard to an excel file,\n",
    "\n",
    "we need to define the mouse coordinates. Before running the code below, open EnergyPLAN without altering the window size,location etc.\n",
    "\n",
    "Then run the code. While the code is running, click on the \"open\" file in program, then press the open file button within \"open\" window, with the scenario opened finally click on clipboard button again to get the relevant coordinates.\n",
    "\n",
    "With every mouse click a mouse coordinate will be printed here as an output. You might want to try this process to guarantee\n",
    "the correct coordinates before looping your scenarios. Clicking right mouse button stops the running code.\n",
    "\n",
    "**Important note screen size changes coordinates, so if you are changing screens in between (like plugging your laptop to an external monitor) you need to repeat the coordinate hunt."
   ]
  },
  {
   "cell_type": "code",
   "execution_count": 10,
   "id": "6f5022e4",
   "metadata": {},
   "outputs": [
    {
     "name": "stdout",
     "output_type": "stream",
     "text": [
      "Now at: (134, 249)\n",
      "Now at: (134, 249)\n",
      "Now at: (345, 268)\n",
      "Now at: (345, 268)\n",
      "Now at: (132, 253)\n",
      "Now at: (132, 253)\n",
      "Now at: (2319, 1357)\n",
      "Now at: (2319, 1357)\n"
     ]
    }
   ],
   "source": [
    "from pynput import * \n",
    "\n",
    "def get_coordinates(x,y, button, pressed):\n",
    "    if button == mouse.Button.left:\n",
    "        print(\"Now at: {}\".format((x,y)))\n",
    "    elif button == mouse.Button.right:\n",
    "        return listen.stop()\n",
    "\n",
    "def on_click(x, y, button, pressed):\n",
    "    print('{0} at {1}'.format(\n",
    "        'Pressed' if pressed else 'Released',\n",
    "        (x, y)))\n",
    "    \n",
    "with mouse.Listener(on_click=get_coordinates) as listen:\n",
    "    listen.join()\n",
    "    "
   ]
  },
  {
   "cell_type": "markdown",
   "id": "c9cb3c14",
   "metadata": {},
   "source": [
    "## 3. Running scenarios"
   ]
  },
  {
   "cell_type": "markdown",
   "id": "1c2c1291",
   "metadata": {},
   "source": [
    "Code below is a process which follows:\n",
    "\n",
    "    1. Run the EnergyPLAN.exe\n",
    "    2. Click open file in EnergyPLAN (mouse coordinate provided as \"coords\" should be changed)\n",
    "    3. Send scenario name, looped as scenario\n",
    "    4. Click open in open file window (mouse coordinate provided as \"coords\" should be changed)\n",
    "    5. After scenario loaded in EnergyPLAN, click run clipboard (mouse coordinate provided as \"coords\" should be changed)\n",
    "    6. Close EnergyPLAN by sending alt+f4 keys\n",
    "    7. Open the Excel file (which needs to be created initially as an empty file previosly in a directory)\n",
    "    8. Paste the clipboard by sending ctrl+v keys\n",
    "    9. Open a new sheet by sending shift+f11 keys (for the following loops)\n",
    "    10. Save excel by sending ctrl+s keys\n",
    "    11. Close excel by sending alt+f4 keys\n",
    "    12. next scenario back to step 1.\n",
    "\n",
    "Eventually we end up with an excel file with 82 sheets. Last sheet created should be empty.\n",
    "\n",
    "I throw some waiting seconds in between the steps in order to make sure the file is loaded, program is opened successfully etc. which should be adjusted to users' computers. 25 seconds of waiting in total for each scenario is to be on the safe side. It can be shorten by trial and error. 81 scenarios loop should finish in around 33 minutes with given wait times."
   ]
  },
  {
   "cell_type": "code",
   "execution_count": 26,
   "id": "b9f57cc6",
   "metadata": {},
   "outputs": [],
   "source": [
    "import subprocess\n",
    "import pywinauto\n",
    "import time\n",
    "\n",
    "#pywinauto.keyboard.send_keys(\"{LWIN}m\")\n",
    "#pywinauto.keyboard.send_keys(\"{VK_LWIN up}\")\n",
    "\n",
    "for scenario in noms:    \n",
    "    \n",
    "    filepath = 'C:/Users/asus/Desktop/EnergyPLAN162/energyPLAN.exe'\n",
    "\n",
    "    from pywinauto.application import Application\n",
    "    app = Application(backend=\"uia\").start(filepath)\n",
    "    \n",
    "    time.sleep(3)\n",
    "\n",
    "    pywinauto.mouse.click(button='left', coords=(134, 249)) # click open on EnergyPLAN\n",
    "    \n",
    "    time.sleep(1)\n",
    "    pywinauto.keyboard.send_keys(scenario) \n",
    "\n",
    "    time.sleep(2)\n",
    "\n",
    "    pywinauto.mouse.click(button='left', coords=(2319, 1357)) # click open in open window\n",
    "\n",
    "    time.sleep(4)\n",
    "\n",
    "    pywinauto.mouse.click(button='left', coords=(345, 268)) # click clipboard\n",
    "\n",
    "    time.sleep(3)\n",
    "\n",
    "    pywinauto.keyboard.send_keys(\"%{F4}\")\n",
    "\n",
    "    time.sleep(2)\n",
    "\n",
    "    program_path = r\"C:\\Program Files\\Microsoft Office\\root\\Office16\\EXCEL.exe\"\n",
    "    file_path    = r\"C:\\Users\\asus\\Desktop\\EP essentials\\results.xlsx\"\n",
    "    app2 = Application().start(r'{} \"{}\"'.format(program_path, file_path))\n",
    "\n",
    "    time.sleep(5)\n",
    "\n",
    "    pywinauto.keyboard.send_keys('^v')\n",
    "\n",
    "    time.sleep(2)\n",
    "\n",
    "    pywinauto.keyboard.send_keys('+{F11}')\n",
    "\n",
    "    time.sleep(2)\n",
    "\n",
    "    pywinauto.keyboard.send_keys(\"^s\")\n",
    "\n",
    "    time.sleep(2)\n",
    "\n",
    "    pywinauto.keyboard.send_keys(\"%{F4}\")"
   ]
  },
  {
   "cell_type": "markdown",
   "id": "9ce9a837",
   "metadata": {},
   "source": [
    "## 4. Using the \"results\" file"
   ]
  },
  {
   "cell_type": "code",
   "execution_count": 9,
   "id": "a7c09358",
   "metadata": {},
   "outputs": [],
   "source": [
    "scenario_excel=pandas.ExcelFile(\"C:/Users/asus/Desktop/EP essentials/results.xlsx\")"
   ]
  },
  {
   "cell_type": "code",
   "execution_count": 10,
   "id": "06a3d51d",
   "metadata": {},
   "outputs": [
    {
     "data": {
      "text/plain": [
       "['Sheet82',\n",
       " 'Sheet81',\n",
       " 'Sheet80',\n",
       " 'Sheet79',\n",
       " 'Sheet78',\n",
       " 'Sheet77',\n",
       " 'Sheet76',\n",
       " 'Sheet75',\n",
       " 'Sheet74',\n",
       " 'Sheet73']"
      ]
     },
     "execution_count": 10,
     "metadata": {},
     "output_type": "execute_result"
    }
   ],
   "source": [
    "scenario_excel.sheet_names[:10]"
   ]
  },
  {
   "cell_type": "code",
   "execution_count": 11,
   "id": "c9d09ac0",
   "metadata": {},
   "outputs": [],
   "source": [
    "name_list=[m[:-4] for m in noms] # omitting the \".txt\"\n",
    "name_list.reverse()"
   ]
  },
  {
   "cell_type": "code",
   "execution_count": 12,
   "id": "212fe176",
   "metadata": {},
   "outputs": [
    {
     "data": {
      "text/plain": [
       "['d_1-s_c-d_2-s_c-d_3-s_c-s_p-s_c',\n",
       " 'd_1-s_c-d_2-s_c-d_3-s_c-s_p-s_b',\n",
       " 'd_1-s_c-d_2-s_c-d_3-s_c-s_p-s_a',\n",
       " 'd_1-s_c-d_2-s_c-d_3-s_b-s_p-s_c',\n",
       " 'd_1-s_c-d_2-s_c-d_3-s_b-s_p-s_b',\n",
       " 'd_1-s_c-d_2-s_c-d_3-s_b-s_p-s_a',\n",
       " 'd_1-s_c-d_2-s_c-d_3-s_a-s_p-s_c',\n",
       " 'd_1-s_c-d_2-s_c-d_3-s_a-s_p-s_b',\n",
       " 'd_1-s_c-d_2-s_c-d_3-s_a-s_p-s_a',\n",
       " 'd_1-s_c-d_2-s_b-d_3-s_c-s_p-s_c']"
      ]
     },
     "execution_count": 12,
     "metadata": {},
     "output_type": "execute_result"
    }
   ],
   "source": [
    "name_list[:10]"
   ]
  },
  {
   "cell_type": "code",
   "execution_count": 13,
   "id": "28a1255c",
   "metadata": {},
   "outputs": [],
   "source": [
    "df3=pandas.DataFrame()\n",
    "\n",
    "df3.index=[\"warning\",\"co2_emissions\",\"res_percent\",\"res_production\",\"generation_dist\",\n",
    "           \"fuel_costs\",\"var_costs\",\"fixed_op_cost\",\"annual_inv_cost\",\"fuel_cons(twh)_total\",\n",
    "           \"coal_cons(twh)\",\"oil_cons(twh)\",\"ngas_cons(twh)\",\"biomass_cons(twh)\",\"nuclear_cons(twh)\",\"waste_cons(twh)\",\n",
    "           \"tot_inv_cost\"]\n",
    "\n",
    "met=[\"total\", \"wind\",\"pv\",\"river\",\"hydro\",\"cshp\",\"pp1\",\"pp2\",\"geotherm\"]\n",
    "\n",
    "for sheet in scenario_excel.sheet_names[1:]:\n",
    "    df2 = pandas.read_excel(\"C:/Users/asus/Desktop/EP essentials/results.xlsx\", sheet_name=sheet)\n",
    "    \n",
    "    a = [[m,n] for m,n in zip(met,df2.iloc[83,[1,5,6,7,15,56,58,59,61]].tolist())]\n",
    "    \n",
    "    df3[sheet] = [df2.iloc[0,0],df2.iloc[15,1],df2.iloc[20,1],df2.iloc[21,1],\n",
    "                  a, df2.iloc[38,2]+df2.iloc[52,2],df2.iloc[60,1], df2.iloc[62,1],df2.iloc[64,1],df2.iloc[26,1],\n",
    "                  df2.iloc[29,1],df2.iloc[30,1],df2.iloc[31,1],df2.iloc[32,1],df2.iloc[33,1],df2.iloc[34,1],\n",
    "                  df2.iloc[6:61,7].sum()]\n",
    "\n",
    "df3.columns = name_list\n",
    "df4 = df3.transpose()"
   ]
  },
  {
   "cell_type": "code",
   "execution_count": 14,
   "id": "05f767f5",
   "metadata": {
    "scrolled": true
   },
   "outputs": [
    {
     "data": {
      "text/html": [
       "<div>\n",
       "<style scoped>\n",
       "    .dataframe tbody tr th:only-of-type {\n",
       "        vertical-align: middle;\n",
       "    }\n",
       "\n",
       "    .dataframe tbody tr th {\n",
       "        vertical-align: top;\n",
       "    }\n",
       "\n",
       "    .dataframe thead th {\n",
       "        text-align: right;\n",
       "    }\n",
       "</style>\n",
       "<table border=\"1\" class=\"dataframe\">\n",
       "  <thead>\n",
       "    <tr style=\"text-align: right;\">\n",
       "      <th></th>\n",
       "      <th>warning</th>\n",
       "      <th>co2_emissions</th>\n",
       "      <th>res_percent</th>\n",
       "      <th>res_production</th>\n",
       "      <th>generation_dist</th>\n",
       "      <th>fuel_costs</th>\n",
       "      <th>var_costs</th>\n",
       "      <th>fixed_op_cost</th>\n",
       "      <th>annual_inv_cost</th>\n",
       "      <th>fuel_cons(twh)_total</th>\n",
       "      <th>coal_cons(twh)</th>\n",
       "      <th>oil_cons(twh)</th>\n",
       "      <th>ngas_cons(twh)</th>\n",
       "      <th>biomass_cons(twh)</th>\n",
       "      <th>nuclear_cons(twh)</th>\n",
       "      <th>waste_cons(twh)</th>\n",
       "      <th>tot_inv_cost</th>\n",
       "    </tr>\n",
       "  </thead>\n",
       "  <tbody>\n",
       "    <tr>\n",
       "      <th>d_1-s_c-d_2-s_c-d_3-s_c-s_p-s_c</th>\n",
       "      <td>NaN</td>\n",
       "      <td>297.068</td>\n",
       "      <td>64.1</td>\n",
       "      <td>288.05</td>\n",
       "      <td>[[total, 416.58], [wind, 66.25], [pv, 51.46], ...</td>\n",
       "      <td>30987</td>\n",
       "      <td>60295</td>\n",
       "      <td>10898</td>\n",
       "      <td>25179</td>\n",
       "      <td>1360.34</td>\n",
       "      <td>144.33</td>\n",
       "      <td>449.4</td>\n",
       "      <td>624.8</td>\n",
       "      <td>82.1</td>\n",
       "      <td>59.71</td>\n",
       "      <td>1</td>\n",
       "      <td>501828</td>\n",
       "    </tr>\n",
       "    <tr>\n",
       "      <th>d_1-s_c-d_2-s_c-d_3-s_c-s_p-s_b</th>\n",
       "      <td>NaN</td>\n",
       "      <td>305.952</td>\n",
       "      <td>63.8</td>\n",
       "      <td>286.64</td>\n",
       "      <td>[[total, 416.58], [wind, 67.2], [pv, 40.55], [...</td>\n",
       "      <td>31387</td>\n",
       "      <td>61930</td>\n",
       "      <td>10707</td>\n",
       "      <td>24464</td>\n",
       "      <td>1386.15</td>\n",
       "      <td>149.67</td>\n",
       "      <td>451.17</td>\n",
       "      <td>657.07</td>\n",
       "      <td>88.44</td>\n",
       "      <td>39.81</td>\n",
       "      <td>1</td>\n",
       "      <td>476241</td>\n",
       "    </tr>\n",
       "    <tr>\n",
       "      <th>d_1-s_c-d_2-s_c-d_3-s_c-s_p-s_a</th>\n",
       "      <td>NaN</td>\n",
       "      <td>336.068</td>\n",
       "      <td>50.7</td>\n",
       "      <td>227.53</td>\n",
       "      <td>[[total, 416.58], [wind, 48.48], [pv, 19.79], ...</td>\n",
       "      <td>32258</td>\n",
       "      <td>66445</td>\n",
       "      <td>11000</td>\n",
       "      <td>24329</td>\n",
       "      <td>1504.29</td>\n",
       "      <td>182.12</td>\n",
       "      <td>455.13</td>\n",
       "      <td>745.07</td>\n",
       "      <td>82.16</td>\n",
       "      <td>39.81</td>\n",
       "      <td>0.2</td>\n",
       "      <td>484302</td>\n",
       "    </tr>\n",
       "    <tr>\n",
       "      <th>d_1-s_c-d_2-s_c-d_3-s_b-s_p-s_c</th>\n",
       "      <td>NaN</td>\n",
       "      <td>335.215</td>\n",
       "      <td>63.3</td>\n",
       "      <td>289.16</td>\n",
       "      <td>[[total, 416.62], [wind, 66.45], [pv, 51.46], ...</td>\n",
       "      <td>37820</td>\n",
       "      <td>68684</td>\n",
       "      <td>10926</td>\n",
       "      <td>25203</td>\n",
       "      <td>1513.33</td>\n",
       "      <td>146.25</td>\n",
       "      <td>567.95</td>\n",
       "      <td>653</td>\n",
       "      <td>86.42</td>\n",
       "      <td>59.71</td>\n",
       "      <td>1</td>\n",
       "      <td>502191</td>\n",
       "    </tr>\n",
       "    <tr>\n",
       "      <th>d_1-s_c-d_2-s_c-d_3-s_b-s_p-s_b</th>\n",
       "      <td>NaN</td>\n",
       "      <td>344.23</td>\n",
       "      <td>63</td>\n",
       "      <td>287.72</td>\n",
       "      <td>[[total, 416.62], [wind, 67.38], [pv, 40.55], ...</td>\n",
       "      <td>38216</td>\n",
       "      <td>70326</td>\n",
       "      <td>10735</td>\n",
       "      <td>24488</td>\n",
       "      <td>1539.66</td>\n",
       "      <td>151.85</td>\n",
       "      <td>569.72</td>\n",
       "      <td>685.47</td>\n",
       "      <td>92.82</td>\n",
       "      <td>39.81</td>\n",
       "      <td>1</td>\n",
       "      <td>476604</td>\n",
       "    </tr>\n",
       "  </tbody>\n",
       "</table>\n",
       "</div>"
      ],
      "text/plain": [
       "                                warning co2_emissions res_percent  \\\n",
       "d_1-s_c-d_2-s_c-d_3-s_c-s_p-s_c     NaN       297.068        64.1   \n",
       "d_1-s_c-d_2-s_c-d_3-s_c-s_p-s_b     NaN       305.952        63.8   \n",
       "d_1-s_c-d_2-s_c-d_3-s_c-s_p-s_a     NaN       336.068        50.7   \n",
       "d_1-s_c-d_2-s_c-d_3-s_b-s_p-s_c     NaN       335.215        63.3   \n",
       "d_1-s_c-d_2-s_c-d_3-s_b-s_p-s_b     NaN        344.23          63   \n",
       "\n",
       "                                res_production  \\\n",
       "d_1-s_c-d_2-s_c-d_3-s_c-s_p-s_c         288.05   \n",
       "d_1-s_c-d_2-s_c-d_3-s_c-s_p-s_b         286.64   \n",
       "d_1-s_c-d_2-s_c-d_3-s_c-s_p-s_a         227.53   \n",
       "d_1-s_c-d_2-s_c-d_3-s_b-s_p-s_c         289.16   \n",
       "d_1-s_c-d_2-s_c-d_3-s_b-s_p-s_b         287.72   \n",
       "\n",
       "                                                                   generation_dist  \\\n",
       "d_1-s_c-d_2-s_c-d_3-s_c-s_p-s_c  [[total, 416.58], [wind, 66.25], [pv, 51.46], ...   \n",
       "d_1-s_c-d_2-s_c-d_3-s_c-s_p-s_b  [[total, 416.58], [wind, 67.2], [pv, 40.55], [...   \n",
       "d_1-s_c-d_2-s_c-d_3-s_c-s_p-s_a  [[total, 416.58], [wind, 48.48], [pv, 19.79], ...   \n",
       "d_1-s_c-d_2-s_c-d_3-s_b-s_p-s_c  [[total, 416.62], [wind, 66.45], [pv, 51.46], ...   \n",
       "d_1-s_c-d_2-s_c-d_3-s_b-s_p-s_b  [[total, 416.62], [wind, 67.38], [pv, 40.55], ...   \n",
       "\n",
       "                                fuel_costs var_costs fixed_op_cost  \\\n",
       "d_1-s_c-d_2-s_c-d_3-s_c-s_p-s_c      30987     60295         10898   \n",
       "d_1-s_c-d_2-s_c-d_3-s_c-s_p-s_b      31387     61930         10707   \n",
       "d_1-s_c-d_2-s_c-d_3-s_c-s_p-s_a      32258     66445         11000   \n",
       "d_1-s_c-d_2-s_c-d_3-s_b-s_p-s_c      37820     68684         10926   \n",
       "d_1-s_c-d_2-s_c-d_3-s_b-s_p-s_b      38216     70326         10735   \n",
       "\n",
       "                                annual_inv_cost fuel_cons(twh)_total  \\\n",
       "d_1-s_c-d_2-s_c-d_3-s_c-s_p-s_c           25179              1360.34   \n",
       "d_1-s_c-d_2-s_c-d_3-s_c-s_p-s_b           24464              1386.15   \n",
       "d_1-s_c-d_2-s_c-d_3-s_c-s_p-s_a           24329              1504.29   \n",
       "d_1-s_c-d_2-s_c-d_3-s_b-s_p-s_c           25203              1513.33   \n",
       "d_1-s_c-d_2-s_c-d_3-s_b-s_p-s_b           24488              1539.66   \n",
       "\n",
       "                                coal_cons(twh) oil_cons(twh) ngas_cons(twh)  \\\n",
       "d_1-s_c-d_2-s_c-d_3-s_c-s_p-s_c         144.33         449.4          624.8   \n",
       "d_1-s_c-d_2-s_c-d_3-s_c-s_p-s_b         149.67        451.17         657.07   \n",
       "d_1-s_c-d_2-s_c-d_3-s_c-s_p-s_a         182.12        455.13         745.07   \n",
       "d_1-s_c-d_2-s_c-d_3-s_b-s_p-s_c         146.25        567.95            653   \n",
       "d_1-s_c-d_2-s_c-d_3-s_b-s_p-s_b         151.85        569.72         685.47   \n",
       "\n",
       "                                biomass_cons(twh) nuclear_cons(twh)  \\\n",
       "d_1-s_c-d_2-s_c-d_3-s_c-s_p-s_c              82.1             59.71   \n",
       "d_1-s_c-d_2-s_c-d_3-s_c-s_p-s_b             88.44             39.81   \n",
       "d_1-s_c-d_2-s_c-d_3-s_c-s_p-s_a             82.16             39.81   \n",
       "d_1-s_c-d_2-s_c-d_3-s_b-s_p-s_c             86.42             59.71   \n",
       "d_1-s_c-d_2-s_c-d_3-s_b-s_p-s_b             92.82             39.81   \n",
       "\n",
       "                                waste_cons(twh) tot_inv_cost  \n",
       "d_1-s_c-d_2-s_c-d_3-s_c-s_p-s_c               1       501828  \n",
       "d_1-s_c-d_2-s_c-d_3-s_c-s_p-s_b               1       476241  \n",
       "d_1-s_c-d_2-s_c-d_3-s_c-s_p-s_a             0.2       484302  \n",
       "d_1-s_c-d_2-s_c-d_3-s_b-s_p-s_c               1       502191  \n",
       "d_1-s_c-d_2-s_c-d_3-s_b-s_p-s_b               1       476604  "
      ]
     },
     "execution_count": 14,
     "metadata": {},
     "output_type": "execute_result"
    }
   ],
   "source": [
    "df4.head(5)"
   ]
  },
  {
   "cell_type": "code",
   "execution_count": 24,
   "id": "46f2aea8",
   "metadata": {},
   "outputs": [],
   "source": [
    "from bokeh.io import show\n",
    "from bokeh.layouts import gridplot\n",
    "from bokeh.plotting import figure, output_notebook\n",
    "\n",
    "#output_notebook()\n",
    "\n",
    "# create three plots\n",
    "s1 = figure(background_fill_color=\"#fafafa\")\n",
    "s1.circle(df4[\"co2_emissions\"].values, df4[\"res_percent\"].values, size=12, alpha=0.8, color=\"#53777a\")\n",
    "\n",
    "s2 = figure(background_fill_color=\"#fafafa\")\n",
    "s2.triangle(df4[\"var_costs\"], df4[\"fixed_op_cost\"].values, size=12, alpha=0.8, color=\"#c02942\")\n",
    "\n",
    "s3 = figure(background_fill_color=\"#fafafa\")\n",
    "s3.square(df4[\"co2_emissions\"].values, df4[\"fuel_costs\"].values, size=12, alpha=0.8, color=\"#d95b43\")\n",
    "\n",
    "# make a grid\n",
    "grid = gridplot([[s1, s2], [s3]], width=300, height=300)\n",
    "\n",
    "\n"
   ]
  },
  {
   "cell_type": "code",
   "execution_count": 25,
   "id": "1cf44705",
   "metadata": {},
   "outputs": [
    {
     "data": {
      "text/html": [
       "\n",
       "\n",
       "\n",
       "\n",
       "\n",
       "\n",
       "  <div class=\"bk-root\" id=\"79eda756-81ef-4bcd-b8e4-23a16ab3f595\" data-root-id=\"2782\"></div>\n"
      ]
     },
     "metadata": {},
     "output_type": "display_data"
    },
    {
     "data": {
      "application/javascript": [
       "(function(root) {\n",
       "  function embed_document(root) {\n",
       "    \n",
       "  const docs_json = {\"6a43f2ae-fcaf-480b-a564-ab5ed307e571\":{\"defs\":[],\"roots\":{\"references\":[{\"attributes\":{\"children\":[{\"id\":\"2781\"},{\"id\":\"2779\"}]},\"id\":\"2782\",\"type\":\"Column\"},{\"attributes\":{\"source\":{\"id\":\"2700\"}},\"id\":\"2705\",\"type\":\"CDSView\"},{\"attributes\":{\"fill_alpha\":{\"value\":0.8},\"fill_color\":{\"value\":\"#c02942\"},\"hatch_alpha\":{\"value\":0.8},\"hatch_color\":{\"value\":\"#c02942\"},\"line_alpha\":{\"value\":0.8},\"line_color\":{\"value\":\"#c02942\"},\"marker\":{\"value\":\"triangle\"},\"size\":{\"value\":12},\"x\":{\"field\":\"x\"},\"y\":{\"field\":\"y\"}},\"id\":\"2701\",\"type\":\"Scatter\"},{\"attributes\":{\"fill_alpha\":{\"value\":0.1},\"fill_color\":{\"value\":\"#d95b43\"},\"hatch_alpha\":{\"value\":0.1},\"hatch_color\":{\"value\":\"#d95b43\"},\"line_alpha\":{\"value\":0.1},\"line_color\":{\"value\":\"#d95b43\"},\"marker\":{\"value\":\"square\"},\"size\":{\"value\":12},\"x\":{\"field\":\"x\"},\"y\":{\"field\":\"y\"}},\"id\":\"2739\",\"type\":\"Scatter\"},{\"attributes\":{},\"id\":\"2686\",\"type\":\"PanTool\"},{\"attributes\":{},\"id\":\"2670\",\"type\":\"DataRange1d\"},{\"attributes\":{},\"id\":\"2690\",\"type\":\"ResetTool\"},{\"attributes\":{},\"id\":\"2687\",\"type\":\"WheelZoomTool\"},{\"attributes\":{\"fill_alpha\":{\"value\":0.1},\"fill_color\":{\"value\":\"#53777a\"},\"hatch_alpha\":{\"value\":0.1},\"hatch_color\":{\"value\":\"#53777a\"},\"line_alpha\":{\"value\":0.1},\"line_color\":{\"value\":\"#53777a\"},\"size\":{\"value\":12},\"x\":{\"field\":\"x\"},\"y\":{\"field\":\"y\"}},\"id\":\"2665\",\"type\":\"Circle\"},{\"attributes\":{\"overlay\":{\"id\":\"2692\"}},\"id\":\"2688\",\"type\":\"BoxZoomTool\"},{\"attributes\":{\"coordinates\":null,\"group\":null},\"id\":\"2743\",\"type\":\"Title\"},{\"attributes\":{},\"id\":\"2689\",\"type\":\"SaveTool\"},{\"attributes\":{\"bottom_units\":\"screen\",\"coordinates\":null,\"fill_alpha\":0.5,\"fill_color\":\"lightgrey\",\"group\":null,\"left_units\":\"screen\",\"level\":\"overlay\",\"line_alpha\":1.0,\"line_color\":\"black\",\"line_dash\":[4,4],\"line_width\":2,\"right_units\":\"screen\",\"syncable\":false,\"top_units\":\"screen\"},\"id\":\"2729\",\"type\":\"BoxAnnotation\"},{\"attributes\":{},\"id\":\"2723\",\"type\":\"PanTool\"},{\"attributes\":{},\"id\":\"2679\",\"type\":\"BasicTicker\"},{\"attributes\":{},\"id\":\"2727\",\"type\":\"ResetTool\"},{\"attributes\":{\"fill_alpha\":{\"value\":0.2},\"fill_color\":{\"value\":\"#c02942\"},\"hatch_alpha\":{\"value\":0.2},\"hatch_color\":{\"value\":\"#c02942\"},\"line_alpha\":{\"value\":0.2},\"line_color\":{\"value\":\"#c02942\"},\"marker\":{\"value\":\"triangle\"},\"size\":{\"value\":12},\"x\":{\"field\":\"x\"},\"y\":{\"field\":\"y\"}},\"id\":\"2703\",\"type\":\"Scatter\"},{\"attributes\":{},\"id\":\"2724\",\"type\":\"WheelZoomTool\"},{\"attributes\":{\"background_fill_color\":\"#fafafa\",\"below\":[{\"id\":\"2715\"}],\"center\":[{\"id\":\"2718\"},{\"id\":\"2722\"}],\"height\":300,\"left\":[{\"id\":\"2719\"}],\"renderers\":[{\"id\":\"2741\"}],\"title\":{\"id\":\"2767\"},\"toolbar\":{\"id\":\"2730\"},\"toolbar_location\":null,\"width\":300,\"x_range\":{\"id\":\"2707\"},\"x_scale\":{\"id\":\"2711\"},\"y_range\":{\"id\":\"2709\"},\"y_scale\":{\"id\":\"2713\"}},\"id\":\"2706\",\"subtype\":\"Figure\",\"type\":\"Plot\"},{\"attributes\":{},\"id\":\"2691\",\"type\":\"HelpTool\"},{\"attributes\":{\"overlay\":{\"id\":\"2729\"}},\"id\":\"2725\",\"type\":\"BoxZoomTool\"},{\"attributes\":{},\"id\":\"2726\",\"type\":\"SaveTool\"},{\"attributes\":{},\"id\":\"2676\",\"type\":\"LinearScale\"},{\"attributes\":{},\"id\":\"2746\",\"type\":\"BasicTickFormatter\"},{\"attributes\":{},\"id\":\"2728\",\"type\":\"HelpTool\"},{\"attributes\":{},\"id\":\"2747\",\"type\":\"AllLabels\"},{\"attributes\":{\"tools\":[{\"id\":\"2686\"},{\"id\":\"2687\"},{\"id\":\"2688\"},{\"id\":\"2689\"},{\"id\":\"2690\"},{\"id\":\"2691\"}]},\"id\":\"2693\",\"type\":\"Toolbar\"},{\"attributes\":{\"bottom_units\":\"screen\",\"coordinates\":null,\"fill_alpha\":0.5,\"fill_color\":\"lightgrey\",\"group\":null,\"left_units\":\"screen\",\"level\":\"overlay\",\"line_alpha\":1.0,\"line_color\":\"black\",\"line_dash\":[4,4],\"line_width\":2,\"right_units\":\"screen\",\"syncable\":false,\"top_units\":\"screen\"},\"id\":\"2692\",\"type\":\"BoxAnnotation\"},{\"attributes\":{},\"id\":\"2752\",\"type\":\"Selection\"},{\"attributes\":{\"coordinates\":null,\"group\":null},\"id\":\"2755\",\"type\":\"Title\"},{\"attributes\":{\"tools\":[{\"id\":\"2723\"},{\"id\":\"2724\"},{\"id\":\"2725\"},{\"id\":\"2726\"},{\"id\":\"2727\"},{\"id\":\"2728\"}]},\"id\":\"2730\",\"type\":\"Toolbar\"},{\"attributes\":{\"fill_alpha\":{\"value\":0.2},\"fill_color\":{\"value\":\"#d95b43\"},\"hatch_alpha\":{\"value\":0.2},\"hatch_color\":{\"value\":\"#d95b43\"},\"line_alpha\":{\"value\":0.2},\"line_color\":{\"value\":\"#d95b43\"},\"marker\":{\"value\":\"square\"},\"size\":{\"value\":12},\"x\":{\"field\":\"x\"},\"y\":{\"field\":\"y\"}},\"id\":\"2740\",\"type\":\"Scatter\"},{\"attributes\":{\"coordinates\":null,\"data_source\":{\"id\":\"2737\"},\"glyph\":{\"id\":\"2738\"},\"group\":null,\"hover_glyph\":null,\"muted_glyph\":{\"id\":\"2740\"},\"nonselection_glyph\":{\"id\":\"2739\"},\"view\":{\"id\":\"2742\"}},\"id\":\"2741\",\"type\":\"GlyphRenderer\"},{\"attributes\":{\"source\":{\"id\":\"2737\"}},\"id\":\"2742\",\"type\":\"CDSView\"},{\"attributes\":{\"coordinates\":null,\"data_source\":{\"id\":\"2700\"},\"glyph\":{\"id\":\"2701\"},\"group\":null,\"hover_glyph\":null,\"muted_glyph\":{\"id\":\"2703\"},\"nonselection_glyph\":{\"id\":\"2702\"},\"view\":{\"id\":\"2705\"}},\"id\":\"2704\",\"type\":\"GlyphRenderer\"},{\"attributes\":{},\"id\":\"2750\",\"type\":\"AllLabels\"},{\"attributes\":{\"data\":{\"x\":[297.068,305.952,336.068,335.215,344.23,374.588,333.402,342.003,371.064,311.55,320.434,350.55,349.697,358.712,389.07,347.885,356.485,385.547,373.62,382.504,412.62,411.767,420.782,451.14,409.955,418.555,447.617,299.539,308.468,338.524,337.677,346.736,377.045,335.891,344.538,373.522,314.022,322.951,353.007,352.16,361.219,391.527,350.373,359.02,388.004,376.092,385.021,415.077,414.23,423.289,453.597,412.443,421.091,450.075,302.443,311.201,341.446,340.621,349.504,379.966,338.727,347.187,376.443,316.926,325.684,355.929,355.103,363.987,394.449,353.21,361.669,390.925,378.996,387.754,417.999,417.173,426.057,456.519,415.28,423.739,452.995],\"y\":[30987,31387,32258,37820,38216,39063,40425,40823,41759,32029,32428,33300,38862,39258,40105,41467,41865,42801,35673,36073,36944,42506,42902,43749,45112,45509,46445,31142,31541,32411,37974,38370,39216,40580,40977,41912,32183,32583,33453,39016,39411,40258,41622,42019,42954,35828,36227,37097,42661,43056,43903,45266,45663,46599,31836,32237,33116,38668,39068,39921,41275,41675,42618,32878,33279,34157,39710,40110,40963,42317,42717,43660,36522,36923,37802,43354,43754,44607,45961,46362,47304]},\"selected\":{\"id\":\"2776\"},\"selection_policy\":{\"id\":\"2775\"}},\"id\":\"2737\",\"type\":\"ColumnDataSource\"},{\"attributes\":{},\"id\":\"2749\",\"type\":\"BasicTickFormatter\"},{\"attributes\":{},\"id\":\"2707\",\"type\":\"DataRange1d\"},{\"attributes\":{},\"id\":\"2709\",\"type\":\"DataRange1d\"},{\"attributes\":{},\"id\":\"2751\",\"type\":\"UnionRenderers\"},{\"attributes\":{},\"id\":\"2758\",\"type\":\"BasicTickFormatter\"},{\"attributes\":{},\"id\":\"2762\",\"type\":\"AllLabels\"},{\"attributes\":{},\"id\":\"2761\",\"type\":\"BasicTickFormatter\"},{\"attributes\":{},\"id\":\"2716\",\"type\":\"BasicTicker\"},{\"attributes\":{},\"id\":\"2759\",\"type\":\"AllLabels\"},{\"attributes\":{},\"id\":\"2711\",\"type\":\"LinearScale\"},{\"attributes\":{},\"id\":\"2763\",\"type\":\"UnionRenderers\"},{\"attributes\":{\"axis\":{\"id\":\"2682\"},\"coordinates\":null,\"dimension\":1,\"group\":null,\"ticker\":null},\"id\":\"2685\",\"type\":\"Grid\"},{\"attributes\":{},\"id\":\"2713\",\"type\":\"LinearScale\"},{\"attributes\":{\"coordinates\":null,\"formatter\":{\"id\":\"2773\"},\"group\":null,\"major_label_policy\":{\"id\":\"2774\"},\"ticker\":{\"id\":\"2716\"}},\"id\":\"2715\",\"type\":\"LinearAxis\"},{\"attributes\":{},\"id\":\"2672\",\"type\":\"DataRange1d\"},{\"attributes\":{\"coordinates\":null,\"formatter\":{\"id\":\"2758\"},\"group\":null,\"major_label_policy\":{\"id\":\"2759\"},\"ticker\":{\"id\":\"2683\"}},\"id\":\"2682\",\"type\":\"LinearAxis\"},{\"attributes\":{\"fill_alpha\":{\"value\":0.8},\"fill_color\":{\"value\":\"#53777a\"},\"hatch_alpha\":{\"value\":0.8},\"hatch_color\":{\"value\":\"#53777a\"},\"line_alpha\":{\"value\":0.8},\"line_color\":{\"value\":\"#53777a\"},\"size\":{\"value\":12},\"x\":{\"field\":\"x\"},\"y\":{\"field\":\"y\"}},\"id\":\"2664\",\"type\":\"Circle\"},{\"attributes\":{\"tools\":[{\"id\":\"2649\"},{\"id\":\"2650\"},{\"id\":\"2651\"},{\"id\":\"2652\"},{\"id\":\"2653\"},{\"id\":\"2654\"}]},\"id\":\"2656\",\"type\":\"Toolbar\"},{\"attributes\":{},\"id\":\"2764\",\"type\":\"Selection\"},{\"attributes\":{\"axis\":{\"id\":\"2715\"},\"coordinates\":null,\"group\":null,\"ticker\":null},\"id\":\"2718\",\"type\":\"Grid\"},{\"attributes\":{},\"id\":\"2770\",\"type\":\"BasicTickFormatter\"},{\"attributes\":{\"coordinates\":null,\"group\":null},\"id\":\"2767\",\"type\":\"Title\"},{\"attributes\":{},\"id\":\"2720\",\"type\":\"BasicTicker\"},{\"attributes\":{\"coordinates\":null,\"formatter\":{\"id\":\"2770\"},\"group\":null,\"major_label_policy\":{\"id\":\"2771\"},\"ticker\":{\"id\":\"2720\"}},\"id\":\"2719\",\"type\":\"LinearAxis\"},{\"attributes\":{\"axis\":{\"id\":\"2719\"},\"coordinates\":null,\"dimension\":1,\"group\":null,\"ticker\":null},\"id\":\"2722\",\"type\":\"Grid\"},{\"attributes\":{},\"id\":\"2683\",\"type\":\"BasicTicker\"},{\"attributes\":{\"axis\":{\"id\":\"2678\"},\"coordinates\":null,\"group\":null,\"ticker\":null},\"id\":\"2681\",\"type\":\"Grid\"},{\"attributes\":{\"fill_alpha\":{\"value\":0.8},\"fill_color\":{\"value\":\"#d95b43\"},\"hatch_alpha\":{\"value\":0.8},\"hatch_color\":{\"value\":\"#d95b43\"},\"line_alpha\":{\"value\":0.8},\"line_color\":{\"value\":\"#d95b43\"},\"marker\":{\"value\":\"square\"},\"size\":{\"value\":12},\"x\":{\"field\":\"x\"},\"y\":{\"field\":\"y\"}},\"id\":\"2738\",\"type\":\"Scatter\"},{\"attributes\":{},\"id\":\"2773\",\"type\":\"BasicTickFormatter\"},{\"attributes\":{},\"id\":\"2771\",\"type\":\"AllLabels\"},{\"attributes\":{\"children\":[[{\"id\":\"2632\"},0,0],[{\"id\":\"2669\"},0,1],[{\"id\":\"2706\"},1,0]]},\"id\":\"2779\",\"type\":\"GridBox\"},{\"attributes\":{},\"id\":\"2774\",\"type\":\"AllLabels\"},{\"attributes\":{},\"id\":\"2776\",\"type\":\"Selection\"},{\"attributes\":{\"background_fill_color\":\"#fafafa\",\"below\":[{\"id\":\"2641\"}],\"center\":[{\"id\":\"2644\"},{\"id\":\"2648\"}],\"height\":300,\"left\":[{\"id\":\"2645\"}],\"renderers\":[{\"id\":\"2667\"}],\"title\":{\"id\":\"2743\"},\"toolbar\":{\"id\":\"2656\"},\"toolbar_location\":null,\"width\":300,\"x_range\":{\"id\":\"2633\"},\"x_scale\":{\"id\":\"2637\"},\"y_range\":{\"id\":\"2635\"},\"y_scale\":{\"id\":\"2639\"}},\"id\":\"2632\",\"subtype\":\"Figure\",\"type\":\"Plot\"},{\"attributes\":{\"coordinates\":null,\"data_source\":{\"id\":\"2663\"},\"glyph\":{\"id\":\"2664\"},\"group\":null,\"hover_glyph\":null,\"muted_glyph\":{\"id\":\"2666\"},\"nonselection_glyph\":{\"id\":\"2665\"},\"view\":{\"id\":\"2668\"}},\"id\":\"2667\",\"type\":\"GlyphRenderer\"},{\"attributes\":{},\"id\":\"2633\",\"type\":\"DataRange1d\"},{\"attributes\":{},\"id\":\"2635\",\"type\":\"DataRange1d\"},{\"attributes\":{\"coordinates\":null,\"formatter\":{\"id\":\"2761\"},\"group\":null,\"major_label_policy\":{\"id\":\"2762\"},\"ticker\":{\"id\":\"2679\"}},\"id\":\"2678\",\"type\":\"LinearAxis\"},{\"attributes\":{},\"id\":\"2642\",\"type\":\"BasicTicker\"},{\"attributes\":{},\"id\":\"2637\",\"type\":\"LinearScale\"},{\"attributes\":{},\"id\":\"2674\",\"type\":\"LinearScale\"},{\"attributes\":{},\"id\":\"2639\",\"type\":\"LinearScale\"},{\"attributes\":{\"coordinates\":null,\"formatter\":{\"id\":\"2749\"},\"group\":null,\"major_label_policy\":{\"id\":\"2750\"},\"ticker\":{\"id\":\"2642\"}},\"id\":\"2641\",\"type\":\"LinearAxis\"},{\"attributes\":{\"axis\":{\"id\":\"2641\"},\"coordinates\":null,\"group\":null,\"ticker\":null},\"id\":\"2644\",\"type\":\"Grid\"},{\"attributes\":{},\"id\":\"2646\",\"type\":\"BasicTicker\"},{\"attributes\":{\"coordinates\":null,\"formatter\":{\"id\":\"2746\"},\"group\":null,\"major_label_policy\":{\"id\":\"2747\"},\"ticker\":{\"id\":\"2646\"}},\"id\":\"2645\",\"type\":\"LinearAxis\"},{\"attributes\":{\"axis\":{\"id\":\"2645\"},\"coordinates\":null,\"dimension\":1,\"group\":null,\"ticker\":null},\"id\":\"2648\",\"type\":\"Grid\"},{\"attributes\":{\"source\":{\"id\":\"2663\"}},\"id\":\"2668\",\"type\":\"CDSView\"},{\"attributes\":{\"data\":{\"x\":[60295,61930,66445,68684,70326,74850,70063,71661,76129,62714,64349,68864,71102,72745,77269,72482,74080,78548,69321,70955,75471,77709,79351,83876,79089,80687,85155,60869,62503,67009,69257,70899,75414,70639,72237,76694,63288,64922,69428,71676,73318,77833,73058,74656,79112,69894,71529,76035,78282,79924,84440,79665,81263,85719,61654,63280,67821,70043,71678,76226,71415,73007,77503,64073,65698,70239,72462,74097,78645,73834,75426,79922,70679,72305,76846,79069,80703,85252,80440,82033,86529],\"y\":[10898,10707,11000,10926,10735,11028,10829,10639,10931,10898,10707,11000,10926,10735,11028,10829,10639,10931,10898,10707,11000,10926,10735,11028,10829,10639,10931,11042,10851,11144,11070,10879,11172,10974,10783,11076,11042,10851,11144,11070,10879,11172,10974,10783,11076,11042,10851,11144,11070,10879,11172,10974,10783,11076,10863,10672,10965,10891,10700,10993,10795,10604,10897,10863,10672,10965,10891,10700,10993,10795,10604,10897,10863,10672,10965,10891,10700,10993,10795,10604,10897]},\"selected\":{\"id\":\"2764\"},\"selection_policy\":{\"id\":\"2763\"}},\"id\":\"2700\",\"type\":\"ColumnDataSource\"},{\"attributes\":{\"data\":{\"x\":[297.068,305.952,336.068,335.215,344.23,374.588,333.402,342.003,371.064,311.55,320.434,350.55,349.697,358.712,389.07,347.885,356.485,385.547,373.62,382.504,412.62,411.767,420.782,451.14,409.955,418.555,447.617,299.539,308.468,338.524,337.677,346.736,377.045,335.891,344.538,373.522,314.022,322.951,353.007,352.16,361.219,391.527,350.373,359.02,388.004,376.092,385.021,415.077,414.23,423.289,453.597,412.443,421.091,450.075,302.443,311.201,341.446,340.621,349.504,379.966,338.727,347.187,376.443,316.926,325.684,355.929,355.103,363.987,394.449,353.21,361.669,390.925,378.996,387.754,417.999,417.173,426.057,456.519,415.28,423.739,452.995],\"y\":[64.1,63.8,50.7,63.3,63,50,66.2,65.9,52.5,64.1,63.8,50.7,63.3,63,50,66.2,65.9,52.5,64.1,63.8,50.7,63.3,63,50,66.2,65.9,52.5,64.3,64,50.8,63.5,63.2,50.2,66.4,66.1,52.6,64.3,64,50.8,63.5,63.2,50.2,66.4,66.1,52.6,64.3,64,50.8,63.5,63.2,50.2,66.4,66.1,52.6,63.4,63.1,50.1,62.7,62.4,49.4,65.5,65.2,51.8,63.4,63.1,50.1,62.7,62.4,49.4,65.5,65.2,51.8,63.4,63.1,50.1,62.7,62.4,49.4,65.5,65.2,51.8]},\"selected\":{\"id\":\"2752\"},\"selection_policy\":{\"id\":\"2751\"}},\"id\":\"2663\",\"type\":\"ColumnDataSource\"},{\"attributes\":{\"fill_alpha\":{\"value\":0.2},\"fill_color\":{\"value\":\"#53777a\"},\"hatch_alpha\":{\"value\":0.2},\"hatch_color\":{\"value\":\"#53777a\"},\"line_alpha\":{\"value\":0.2},\"line_color\":{\"value\":\"#53777a\"},\"size\":{\"value\":12},\"x\":{\"field\":\"x\"},\"y\":{\"field\":\"y\"}},\"id\":\"2666\",\"type\":\"Circle\"},{\"attributes\":{\"toolbar\":{\"id\":\"2780\"},\"toolbar_location\":\"above\"},\"id\":\"2781\",\"type\":\"ToolbarBox\"},{\"attributes\":{},\"id\":\"2649\",\"type\":\"PanTool\"},{\"attributes\":{},\"id\":\"2653\",\"type\":\"ResetTool\"},{\"attributes\":{\"toolbars\":[{\"id\":\"2656\"},{\"id\":\"2693\"},{\"id\":\"2730\"}],\"tools\":[{\"id\":\"2649\"},{\"id\":\"2650\"},{\"id\":\"2651\"},{\"id\":\"2652\"},{\"id\":\"2653\"},{\"id\":\"2654\"},{\"id\":\"2686\"},{\"id\":\"2687\"},{\"id\":\"2688\"},{\"id\":\"2689\"},{\"id\":\"2690\"},{\"id\":\"2691\"},{\"id\":\"2723\"},{\"id\":\"2724\"},{\"id\":\"2725\"},{\"id\":\"2726\"},{\"id\":\"2727\"},{\"id\":\"2728\"}]},\"id\":\"2780\",\"type\":\"ProxyToolbar\"},{\"attributes\":{},\"id\":\"2650\",\"type\":\"WheelZoomTool\"},{\"attributes\":{\"overlay\":{\"id\":\"2655\"}},\"id\":\"2651\",\"type\":\"BoxZoomTool\"},{\"attributes\":{},\"id\":\"2652\",\"type\":\"SaveTool\"},{\"attributes\":{},\"id\":\"2654\",\"type\":\"HelpTool\"},{\"attributes\":{\"background_fill_color\":\"#fafafa\",\"below\":[{\"id\":\"2678\"}],\"center\":[{\"id\":\"2681\"},{\"id\":\"2685\"}],\"height\":300,\"left\":[{\"id\":\"2682\"}],\"renderers\":[{\"id\":\"2704\"}],\"title\":{\"id\":\"2755\"},\"toolbar\":{\"id\":\"2693\"},\"toolbar_location\":null,\"width\":300,\"x_range\":{\"id\":\"2670\"},\"x_scale\":{\"id\":\"2674\"},\"y_range\":{\"id\":\"2672\"},\"y_scale\":{\"id\":\"2676\"}},\"id\":\"2669\",\"subtype\":\"Figure\",\"type\":\"Plot\"},{\"attributes\":{},\"id\":\"2775\",\"type\":\"UnionRenderers\"},{\"attributes\":{\"bottom_units\":\"screen\",\"coordinates\":null,\"fill_alpha\":0.5,\"fill_color\":\"lightgrey\",\"group\":null,\"left_units\":\"screen\",\"level\":\"overlay\",\"line_alpha\":1.0,\"line_color\":\"black\",\"line_dash\":[4,4],\"line_width\":2,\"right_units\":\"screen\",\"syncable\":false,\"top_units\":\"screen\"},\"id\":\"2655\",\"type\":\"BoxAnnotation\"},{\"attributes\":{\"fill_alpha\":{\"value\":0.1},\"fill_color\":{\"value\":\"#c02942\"},\"hatch_alpha\":{\"value\":0.1},\"hatch_color\":{\"value\":\"#c02942\"},\"line_alpha\":{\"value\":0.1},\"line_color\":{\"value\":\"#c02942\"},\"marker\":{\"value\":\"triangle\"},\"size\":{\"value\":12},\"x\":{\"field\":\"x\"},\"y\":{\"field\":\"y\"}},\"id\":\"2702\",\"type\":\"Scatter\"}],\"root_ids\":[\"2782\"]},\"title\":\"Bokeh Application\",\"version\":\"2.4.1\"}};\n",
       "  const render_items = [{\"docid\":\"6a43f2ae-fcaf-480b-a564-ab5ed307e571\",\"root_ids\":[\"2782\"],\"roots\":{\"2782\":\"79eda756-81ef-4bcd-b8e4-23a16ab3f595\"}}];\n",
       "  root.Bokeh.embed.embed_items_notebook(docs_json, render_items);\n",
       "\n",
       "  }\n",
       "  if (root.Bokeh !== undefined) {\n",
       "    embed_document(root);\n",
       "  } else {\n",
       "    let attempts = 0;\n",
       "    const timer = setInterval(function(root) {\n",
       "      if (root.Bokeh !== undefined) {\n",
       "        clearInterval(timer);\n",
       "        embed_document(root);\n",
       "      } else {\n",
       "        attempts++;\n",
       "        if (attempts > 100) {\n",
       "          clearInterval(timer);\n",
       "          console.log(\"Bokeh: ERROR: Unable to run BokehJS code because BokehJS library is missing\");\n",
       "        }\n",
       "      }\n",
       "    }, 10, root)\n",
       "  }\n",
       "})(window);"
      ],
      "application/vnd.bokehjs_exec.v0+json": ""
     },
     "metadata": {
      "application/vnd.bokehjs_exec.v0+json": {
       "id": "2782"
      }
     },
     "output_type": "display_data"
    }
   ],
   "source": [
    "show(grid)"
   ]
  }
 ],
 "metadata": {
  "kernelspec": {
   "display_name": "Python 3 (ipykernel)",
   "language": "python",
   "name": "python3"
  },
  "language_info": {
   "codemirror_mode": {
    "name": "ipython",
    "version": 3
   },
   "file_extension": ".py",
   "mimetype": "text/x-python",
   "name": "python",
   "nbconvert_exporter": "python",
   "pygments_lexer": "ipython3",
   "version": "3.7.4"
  }
 },
 "nbformat": 4,
 "nbformat_minor": 5
}
